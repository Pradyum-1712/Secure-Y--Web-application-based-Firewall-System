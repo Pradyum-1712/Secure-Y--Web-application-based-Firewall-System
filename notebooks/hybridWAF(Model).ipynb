{
  "nbformat": 4,
  "nbformat_minor": 0,
  "metadata": {
    "colab": {
      "provenance": []
    },
    "kernelspec": {
      "name": "python3",
      "display_name": "Python 3"
    },
    "language_info": {
      "name": "python"
    },
    "widgets": {
      "application/vnd.jupyter.widget-state+json": {
        "52001af69cfa462a917f39875260cefd": {
          "model_module": "@jupyter-widgets/output",
          "model_name": "OutputModel",
          "model_module_version": "1.0.0",
          "state": {
            "_dom_classes": [],
            "_model_module": "@jupyter-widgets/output",
            "_model_module_version": "1.0.0",
            "_model_name": "OutputModel",
            "_view_count": null,
            "_view_module": "@jupyter-widgets/output",
            "_view_module_version": "1.0.0",
            "_view_name": "OutputView",
            "layout": "IPY_MODEL_c7dd285d8155458bbf7df2911e7761d6",
            "msg_id": "",
            "outputs": [
              {
                "output_type": "display_data",
                "data": {
                  "text/plain": "\u001b[32m⠦\u001b[0m Waiting for authorization\n",
                  "text/html": "<pre style=\"white-space:pre;overflow-x:auto;line-height:normal;font-family:Menlo,'DejaVu Sans Mono',consolas,'Courier New',monospace\"><span style=\"color: #008000; text-decoration-color: #008000\">⠦</span> Waiting for authorization\n</pre>\n"
                },
                "metadata": {}
              }
            ]
          }
        },
        "c7dd285d8155458bbf7df2911e7761d6": {
          "model_module": "@jupyter-widgets/base",
          "model_name": "LayoutModel",
          "model_module_version": "1.2.0",
          "state": {
            "_model_module": "@jupyter-widgets/base",
            "_model_module_version": "1.2.0",
            "_model_name": "LayoutModel",
            "_view_count": null,
            "_view_module": "@jupyter-widgets/base",
            "_view_module_version": "1.2.0",
            "_view_name": "LayoutView",
            "align_content": null,
            "align_items": null,
            "align_self": null,
            "border": null,
            "bottom": null,
            "display": null,
            "flex": null,
            "flex_flow": null,
            "grid_area": null,
            "grid_auto_columns": null,
            "grid_auto_flow": null,
            "grid_auto_rows": null,
            "grid_column": null,
            "grid_gap": null,
            "grid_row": null,
            "grid_template_areas": null,
            "grid_template_columns": null,
            "grid_template_rows": null,
            "height": null,
            "justify_content": null,
            "justify_items": null,
            "left": null,
            "margin": null,
            "max_height": null,
            "max_width": null,
            "min_height": null,
            "min_width": null,
            "object_fit": null,
            "object_position": null,
            "order": null,
            "overflow": null,
            "overflow_x": null,
            "overflow_y": null,
            "padding": null,
            "right": null,
            "top": null,
            "visibility": null,
            "width": null
          }
        }
      }
    }
  },
  "cells": [
    {
      "cell_type": "code",
      "source": [
        "import pandas as pd\n",
        "import numpy as np\n",
        "import matplotlib.pyplot as plt\n",
        "import seaborn as sns\n",
        "import mlflow\n",
        "from sklearn.model_selection import train_test_split\n",
        "from sklearn.preprocessing import MinMaxScaler\n",
        "from sklearn.ensemble import RandomForestClassifier\n",
        "from xgboost import XGBClassifier\n",
        "from lightgbm import LGBMClassifier\n",
        "from sklearn.linear_model import LogisticRegression\n",
        "from sklearn.svm import SVC\n",
        "from sklearn.neighbors import KNeighborsClassifier\n",
        "from sklearn.metrics import accuracy_score, f1_score, recall_score, roc_auc_score, precision_score, confusion_matrix, roc_curve, auc, precision_recall_curve\n",
        "import joblib"
      ],
      "metadata": {
        "id": "6BdGlHdj2KHO"
      },
      "execution_count": null,
      "outputs": []
    },
    {
      "cell_type": "code",
      "source": [
        "!pip install -q dagshub mlflow\n"
      ],
      "metadata": {
        "id": "s4DhRYUC_qrb",
        "colab": {
          "base_uri": "https://localhost:8080/"
        },
        "outputId": "ebb778df-3640-431e-d2b6-352110aaa48b"
      },
      "execution_count": null,
      "outputs": [
        {
          "output_type": "stream",
          "name": "stdout",
          "text": [
            "\u001b[2K   \u001b[90m━━━━━━━━━━━━━━━━━━━━━━━━━━━━━━━━━━━━━━━━\u001b[0m \u001b[32m260.1/260.1 kB\u001b[0m \u001b[31m13.9 MB/s\u001b[0m eta \u001b[36m0:00:00\u001b[0m\n",
            "\u001b[2K   \u001b[90m━━━━━━━━━━━━━━━━━━━━━━━━━━━━━━━━━━━━━━━━\u001b[0m \u001b[32m28.2/28.2 MB\u001b[0m \u001b[31m28.2 MB/s\u001b[0m eta \u001b[36m0:00:00\u001b[0m\n",
            "\u001b[2K   \u001b[90m━━━━━━━━━━━━━━━━━━━━━━━━━━━━━━━━━━━━━━━━\u001b[0m \u001b[32m6.1/6.1 MB\u001b[0m \u001b[31m64.3 MB/s\u001b[0m eta \u001b[36m0:00:00\u001b[0m\n",
            "\u001b[2K   \u001b[90m━━━━━━━━━━━━━━━━━━━━━━━━━━━━━━━━━━━━━━━━\u001b[0m \u001b[32m231.9/231.9 kB\u001b[0m \u001b[31m11.3 MB/s\u001b[0m eta \u001b[36m0:00:00\u001b[0m\n",
            "\u001b[2K   \u001b[90m━━━━━━━━━━━━━━━━━━━━━━━━━━━━━━━━━━━━━━━━\u001b[0m \u001b[32m147.8/147.8 kB\u001b[0m \u001b[31m9.4 MB/s\u001b[0m eta \u001b[36m0:00:00\u001b[0m\n",
            "\u001b[2K   \u001b[90m━━━━━━━━━━━━━━━━━━━━━━━━━━━━━━━━━━━━━━━━\u001b[0m \u001b[32m114.9/114.9 kB\u001b[0m \u001b[31m6.8 MB/s\u001b[0m eta \u001b[36m0:00:00\u001b[0m\n",
            "\u001b[2K   \u001b[90m━━━━━━━━━━━━━━━━━━━━━━━━━━━━━━━━━━━━━━━━\u001b[0m \u001b[32m85.0/85.0 kB\u001b[0m \u001b[31m6.0 MB/s\u001b[0m eta \u001b[36m0:00:00\u001b[0m\n",
            "\u001b[2K   \u001b[90m━━━━━━━━━━━━━━━━━━━━━━━━━━━━━━━━━━━━━━━━\u001b[0m \u001b[32m139.9/139.9 kB\u001b[0m \u001b[31m8.4 MB/s\u001b[0m eta \u001b[36m0:00:00\u001b[0m\n",
            "\u001b[2K   \u001b[90m━━━━━━━━━━━━━━━━━━━━━━━━━━━━━━━━━━━━━━━━\u001b[0m \u001b[32m13.5/13.5 MB\u001b[0m \u001b[31m55.4 MB/s\u001b[0m eta \u001b[36m0:00:00\u001b[0m\n",
            "\u001b[2K   \u001b[90m━━━━━━━━━━━━━━━━━━━━━━━━━━━━━━━━━━━━━━━━\u001b[0m \u001b[32m684.0/684.0 kB\u001b[0m \u001b[31m18.4 MB/s\u001b[0m eta \u001b[36m0:00:00\u001b[0m\n",
            "\u001b[2K   \u001b[90m━━━━━━━━━━━━━━━━━━━━━━━━━━━━━━━━━━━━━━━━\u001b[0m \u001b[32m95.2/95.2 kB\u001b[0m \u001b[31m6.0 MB/s\u001b[0m eta \u001b[36m0:00:00\u001b[0m\n",
            "\u001b[2K   \u001b[90m━━━━━━━━━━━━━━━━━━━━━━━━━━━━━━━━━━━━━━━━\u001b[0m \u001b[32m203.2/203.2 kB\u001b[0m \u001b[31m9.2 MB/s\u001b[0m eta \u001b[36m0:00:00\u001b[0m\n",
            "\u001b[2K   \u001b[90m━━━━━━━━━━━━━━━━━━━━━━━━━━━━━━━━━━━━━━━━\u001b[0m \u001b[32m50.9/50.9 kB\u001b[0m \u001b[31m3.5 MB/s\u001b[0m eta \u001b[36m0:00:00\u001b[0m\n",
            "\u001b[2K   \u001b[90m━━━━━━━━━━━━━━━━━━━━━━━━━━━━━━━━━━━━━━━━\u001b[0m \u001b[32m84.4/84.4 kB\u001b[0m \u001b[31m3.8 MB/s\u001b[0m eta \u001b[36m0:00:00\u001b[0m\n",
            "\u001b[2K   \u001b[90m━━━━━━━━━━━━━━━━━━━━━━━━━━━━━━━━━━━━━━━━\u001b[0m \u001b[32m62.3/62.3 kB\u001b[0m \u001b[31m3.2 MB/s\u001b[0m eta \u001b[36m0:00:00\u001b[0m\n",
            "\u001b[2K   \u001b[90m━━━━━━━━━━━━━━━━━━━━━━━━━━━━━━━━━━━━━━━━\u001b[0m \u001b[32m74.3/74.3 kB\u001b[0m \u001b[31m5.1 MB/s\u001b[0m eta \u001b[36m0:00:00\u001b[0m\n",
            "\u001b[2K   \u001b[90m━━━━━━━━━━━━━━━━━━━━━━━━━━━━━━━━━━━━━━━━\u001b[0m \u001b[32m72.0/72.0 kB\u001b[0m \u001b[31m4.7 MB/s\u001b[0m eta \u001b[36m0:00:00\u001b[0m\n",
            "\u001b[?25h"
          ]
        }
      ]
    },
    {
      "cell_type": "code",
      "execution_count": null,
      "metadata": {
        "colab": {
          "base_uri": "https://localhost:8080/"
        },
        "id": "lWKt_jfF0ljX",
        "outputId": "6f208b93-758a-46f1-f4ff-46fb5174c5b3"
      },
      "outputs": [
        {
          "output_type": "stream",
          "name": "stdout",
          "text": [
            "Mounted at /content/drive\n"
          ]
        }
      ],
      "source": [
        "from google.colab import drive\n",
        "# Mount Google Drive\n",
        "drive.mount('/content/drive')\n"
      ]
    },
    {
      "cell_type": "code",
      "source": [
        "# Define the file path (Update the path )\n",
        "file_path = \"final_dataset.csv\"\n",
        "\n",
        "# Load the dataset\n",
        "df = pd.read_csv(file_path)"
      ],
      "metadata": {
        "id": "2MEZKA3OCuNx"
      },
      "execution_count": null,
      "outputs": []
    },
    {
      "cell_type": "code",
      "source": [
        "df.head()"
      ],
      "metadata": {
        "colab": {
          "base_uri": "https://localhost:8080/",
          "height": 226
        },
        "id": "JSmqRz-oc4-3",
        "outputId": "77919038-5fbc-44cf-ac80-96e39de0546f"
      },
      "execution_count": null,
      "outputs": [
        {
          "output_type": "execute_result",
          "data": {
            "text/plain": [
              "   Class                              URI  \\\n",
              "0  Valid               /tienda1/index.jsp   \n",
              "1  Valid      /tienda1/publico/anadir.jsp   \n",
              "2  Valid      /tienda1/publico/anadir.jsp   \n",
              "3  Valid  /tienda1/publico/autenticar.jsp   \n",
              "4  Valid  /tienda1/publico/autenticar.jsp   \n",
              "\n",
              "                                           POST-Data  \\\n",
              "0                                                NaN   \n",
              "1                                                NaN   \n",
              "2  id=1&nombre=Jam%F3n+Ib%E9rico&precio=39&cantid...   \n",
              "3                                                NaN   \n",
              "4  modo=entrar&login=caria&pwd=egipciaca&remember...   \n",
              "\n",
              "                                           GET-Query  URI_Length  GET_Length  \\\n",
              "0                                                NaN          18           0   \n",
              "1  id=1&nombre=Jam%F3n+Ib%E9rico&precio=39&cantid...          27          74   \n",
              "2                                                NaN          27           0   \n",
              "3  modo=entrar&login=caria&pwd=egipciaca&remember...          31          60   \n",
              "4                                                NaN          31           0   \n",
              "\n",
              "   POST_Length  URI_Entropy  GET_Entropy  POST_Entropy  Numeric_Text_Ratio  \\\n",
              "0            0     3.614369     0.000000      0.000000            0.250000   \n",
              "1            0     4.004344     4.501296      0.000000            0.729412   \n",
              "2           74     4.004344     0.000000      4.501296            0.729412   \n",
              "3            0     4.018082     4.129471      0.000000            0.290909   \n",
              "4           60     4.018082     0.000000      4.129471            0.290909   \n",
              "\n",
              "   Special_Char_Count  \n",
              "0                   2  \n",
              "1                   8  \n",
              "2                   8  \n",
              "3                   8  \n",
              "4                   8  "
            ],
            "text/html": [
              "\n",
              "  <div id=\"df-cbafccbb-95cf-4dcc-b845-d24c907bc201\" class=\"colab-df-container\">\n",
              "    <div>\n",
              "<style scoped>\n",
              "    .dataframe tbody tr th:only-of-type {\n",
              "        vertical-align: middle;\n",
              "    }\n",
              "\n",
              "    .dataframe tbody tr th {\n",
              "        vertical-align: top;\n",
              "    }\n",
              "\n",
              "    .dataframe thead th {\n",
              "        text-align: right;\n",
              "    }\n",
              "</style>\n",
              "<table border=\"1\" class=\"dataframe\">\n",
              "  <thead>\n",
              "    <tr style=\"text-align: right;\">\n",
              "      <th></th>\n",
              "      <th>Class</th>\n",
              "      <th>URI</th>\n",
              "      <th>POST-Data</th>\n",
              "      <th>GET-Query</th>\n",
              "      <th>URI_Length</th>\n",
              "      <th>GET_Length</th>\n",
              "      <th>POST_Length</th>\n",
              "      <th>URI_Entropy</th>\n",
              "      <th>GET_Entropy</th>\n",
              "      <th>POST_Entropy</th>\n",
              "      <th>Numeric_Text_Ratio</th>\n",
              "      <th>Special_Char_Count</th>\n",
              "    </tr>\n",
              "  </thead>\n",
              "  <tbody>\n",
              "    <tr>\n",
              "      <th>0</th>\n",
              "      <td>Valid</td>\n",
              "      <td>/tienda1/index.jsp</td>\n",
              "      <td>NaN</td>\n",
              "      <td>NaN</td>\n",
              "      <td>18</td>\n",
              "      <td>0</td>\n",
              "      <td>0</td>\n",
              "      <td>3.614369</td>\n",
              "      <td>0.000000</td>\n",
              "      <td>0.000000</td>\n",
              "      <td>0.250000</td>\n",
              "      <td>2</td>\n",
              "    </tr>\n",
              "    <tr>\n",
              "      <th>1</th>\n",
              "      <td>Valid</td>\n",
              "      <td>/tienda1/publico/anadir.jsp</td>\n",
              "      <td>NaN</td>\n",
              "      <td>id=1&amp;nombre=Jam%F3n+Ib%E9rico&amp;precio=39&amp;cantid...</td>\n",
              "      <td>27</td>\n",
              "      <td>74</td>\n",
              "      <td>0</td>\n",
              "      <td>4.004344</td>\n",
              "      <td>4.501296</td>\n",
              "      <td>0.000000</td>\n",
              "      <td>0.729412</td>\n",
              "      <td>8</td>\n",
              "    </tr>\n",
              "    <tr>\n",
              "      <th>2</th>\n",
              "      <td>Valid</td>\n",
              "      <td>/tienda1/publico/anadir.jsp</td>\n",
              "      <td>id=1&amp;nombre=Jam%F3n+Ib%E9rico&amp;precio=39&amp;cantid...</td>\n",
              "      <td>NaN</td>\n",
              "      <td>27</td>\n",
              "      <td>0</td>\n",
              "      <td>74</td>\n",
              "      <td>4.004344</td>\n",
              "      <td>0.000000</td>\n",
              "      <td>4.501296</td>\n",
              "      <td>0.729412</td>\n",
              "      <td>8</td>\n",
              "    </tr>\n",
              "    <tr>\n",
              "      <th>3</th>\n",
              "      <td>Valid</td>\n",
              "      <td>/tienda1/publico/autenticar.jsp</td>\n",
              "      <td>NaN</td>\n",
              "      <td>modo=entrar&amp;login=caria&amp;pwd=egipciaca&amp;remember...</td>\n",
              "      <td>31</td>\n",
              "      <td>60</td>\n",
              "      <td>0</td>\n",
              "      <td>4.018082</td>\n",
              "      <td>4.129471</td>\n",
              "      <td>0.000000</td>\n",
              "      <td>0.290909</td>\n",
              "      <td>8</td>\n",
              "    </tr>\n",
              "    <tr>\n",
              "      <th>4</th>\n",
              "      <td>Valid</td>\n",
              "      <td>/tienda1/publico/autenticar.jsp</td>\n",
              "      <td>modo=entrar&amp;login=caria&amp;pwd=egipciaca&amp;remember...</td>\n",
              "      <td>NaN</td>\n",
              "      <td>31</td>\n",
              "      <td>0</td>\n",
              "      <td>60</td>\n",
              "      <td>4.018082</td>\n",
              "      <td>0.000000</td>\n",
              "      <td>4.129471</td>\n",
              "      <td>0.290909</td>\n",
              "      <td>8</td>\n",
              "    </tr>\n",
              "  </tbody>\n",
              "</table>\n",
              "</div>\n",
              "    <div class=\"colab-df-buttons\">\n",
              "\n",
              "  <div class=\"colab-df-container\">\n",
              "    <button class=\"colab-df-convert\" onclick=\"convertToInteractive('df-cbafccbb-95cf-4dcc-b845-d24c907bc201')\"\n",
              "            title=\"Convert this dataframe to an interactive table.\"\n",
              "            style=\"display:none;\">\n",
              "\n",
              "  <svg xmlns=\"http://www.w3.org/2000/svg\" height=\"24px\" viewBox=\"0 -960 960 960\">\n",
              "    <path d=\"M120-120v-720h720v720H120Zm60-500h600v-160H180v160Zm220 220h160v-160H400v160Zm0 220h160v-160H400v160ZM180-400h160v-160H180v160Zm440 0h160v-160H620v160ZM180-180h160v-160H180v160Zm440 0h160v-160H620v160Z\"/>\n",
              "  </svg>\n",
              "    </button>\n",
              "\n",
              "  <style>\n",
              "    .colab-df-container {\n",
              "      display:flex;\n",
              "      gap: 12px;\n",
              "    }\n",
              "\n",
              "    .colab-df-convert {\n",
              "      background-color: #E8F0FE;\n",
              "      border: none;\n",
              "      border-radius: 50%;\n",
              "      cursor: pointer;\n",
              "      display: none;\n",
              "      fill: #1967D2;\n",
              "      height: 32px;\n",
              "      padding: 0 0 0 0;\n",
              "      width: 32px;\n",
              "    }\n",
              "\n",
              "    .colab-df-convert:hover {\n",
              "      background-color: #E2EBFA;\n",
              "      box-shadow: 0px 1px 2px rgba(60, 64, 67, 0.3), 0px 1px 3px 1px rgba(60, 64, 67, 0.15);\n",
              "      fill: #174EA6;\n",
              "    }\n",
              "\n",
              "    .colab-df-buttons div {\n",
              "      margin-bottom: 4px;\n",
              "    }\n",
              "\n",
              "    [theme=dark] .colab-df-convert {\n",
              "      background-color: #3B4455;\n",
              "      fill: #D2E3FC;\n",
              "    }\n",
              "\n",
              "    [theme=dark] .colab-df-convert:hover {\n",
              "      background-color: #434B5C;\n",
              "      box-shadow: 0px 1px 3px 1px rgba(0, 0, 0, 0.15);\n",
              "      filter: drop-shadow(0px 1px 2px rgba(0, 0, 0, 0.3));\n",
              "      fill: #FFFFFF;\n",
              "    }\n",
              "  </style>\n",
              "\n",
              "    <script>\n",
              "      const buttonEl =\n",
              "        document.querySelector('#df-cbafccbb-95cf-4dcc-b845-d24c907bc201 button.colab-df-convert');\n",
              "      buttonEl.style.display =\n",
              "        google.colab.kernel.accessAllowed ? 'block' : 'none';\n",
              "\n",
              "      async function convertToInteractive(key) {\n",
              "        const element = document.querySelector('#df-cbafccbb-95cf-4dcc-b845-d24c907bc201');\n",
              "        const dataTable =\n",
              "          await google.colab.kernel.invokeFunction('convertToInteractive',\n",
              "                                                    [key], {});\n",
              "        if (!dataTable) return;\n",
              "\n",
              "        const docLinkHtml = 'Like what you see? Visit the ' +\n",
              "          '<a target=\"_blank\" href=https://colab.research.google.com/notebooks/data_table.ipynb>data table notebook</a>'\n",
              "          + ' to learn more about interactive tables.';\n",
              "        element.innerHTML = '';\n",
              "        dataTable['output_type'] = 'display_data';\n",
              "        await google.colab.output.renderOutput(dataTable, element);\n",
              "        const docLink = document.createElement('div');\n",
              "        docLink.innerHTML = docLinkHtml;\n",
              "        element.appendChild(docLink);\n",
              "      }\n",
              "    </script>\n",
              "  </div>\n",
              "\n",
              "\n",
              "<div id=\"df-2d29bc68-8241-4756-84a9-de5e93ad5e40\">\n",
              "  <button class=\"colab-df-quickchart\" onclick=\"quickchart('df-2d29bc68-8241-4756-84a9-de5e93ad5e40')\"\n",
              "            title=\"Suggest charts\"\n",
              "            style=\"display:none;\">\n",
              "\n",
              "<svg xmlns=\"http://www.w3.org/2000/svg\" height=\"24px\"viewBox=\"0 0 24 24\"\n",
              "     width=\"24px\">\n",
              "    <g>\n",
              "        <path d=\"M19 3H5c-1.1 0-2 .9-2 2v14c0 1.1.9 2 2 2h14c1.1 0 2-.9 2-2V5c0-1.1-.9-2-2-2zM9 17H7v-7h2v7zm4 0h-2V7h2v10zm4 0h-2v-4h2v4z\"/>\n",
              "    </g>\n",
              "</svg>\n",
              "  </button>\n",
              "\n",
              "<style>\n",
              "  .colab-df-quickchart {\n",
              "      --bg-color: #E8F0FE;\n",
              "      --fill-color: #1967D2;\n",
              "      --hover-bg-color: #E2EBFA;\n",
              "      --hover-fill-color: #174EA6;\n",
              "      --disabled-fill-color: #AAA;\n",
              "      --disabled-bg-color: #DDD;\n",
              "  }\n",
              "\n",
              "  [theme=dark] .colab-df-quickchart {\n",
              "      --bg-color: #3B4455;\n",
              "      --fill-color: #D2E3FC;\n",
              "      --hover-bg-color: #434B5C;\n",
              "      --hover-fill-color: #FFFFFF;\n",
              "      --disabled-bg-color: #3B4455;\n",
              "      --disabled-fill-color: #666;\n",
              "  }\n",
              "\n",
              "  .colab-df-quickchart {\n",
              "    background-color: var(--bg-color);\n",
              "    border: none;\n",
              "    border-radius: 50%;\n",
              "    cursor: pointer;\n",
              "    display: none;\n",
              "    fill: var(--fill-color);\n",
              "    height: 32px;\n",
              "    padding: 0;\n",
              "    width: 32px;\n",
              "  }\n",
              "\n",
              "  .colab-df-quickchart:hover {\n",
              "    background-color: var(--hover-bg-color);\n",
              "    box-shadow: 0 1px 2px rgba(60, 64, 67, 0.3), 0 1px 3px 1px rgba(60, 64, 67, 0.15);\n",
              "    fill: var(--button-hover-fill-color);\n",
              "  }\n",
              "\n",
              "  .colab-df-quickchart-complete:disabled,\n",
              "  .colab-df-quickchart-complete:disabled:hover {\n",
              "    background-color: var(--disabled-bg-color);\n",
              "    fill: var(--disabled-fill-color);\n",
              "    box-shadow: none;\n",
              "  }\n",
              "\n",
              "  .colab-df-spinner {\n",
              "    border: 2px solid var(--fill-color);\n",
              "    border-color: transparent;\n",
              "    border-bottom-color: var(--fill-color);\n",
              "    animation:\n",
              "      spin 1s steps(1) infinite;\n",
              "  }\n",
              "\n",
              "  @keyframes spin {\n",
              "    0% {\n",
              "      border-color: transparent;\n",
              "      border-bottom-color: var(--fill-color);\n",
              "      border-left-color: var(--fill-color);\n",
              "    }\n",
              "    20% {\n",
              "      border-color: transparent;\n",
              "      border-left-color: var(--fill-color);\n",
              "      border-top-color: var(--fill-color);\n",
              "    }\n",
              "    30% {\n",
              "      border-color: transparent;\n",
              "      border-left-color: var(--fill-color);\n",
              "      border-top-color: var(--fill-color);\n",
              "      border-right-color: var(--fill-color);\n",
              "    }\n",
              "    40% {\n",
              "      border-color: transparent;\n",
              "      border-right-color: var(--fill-color);\n",
              "      border-top-color: var(--fill-color);\n",
              "    }\n",
              "    60% {\n",
              "      border-color: transparent;\n",
              "      border-right-color: var(--fill-color);\n",
              "    }\n",
              "    80% {\n",
              "      border-color: transparent;\n",
              "      border-right-color: var(--fill-color);\n",
              "      border-bottom-color: var(--fill-color);\n",
              "    }\n",
              "    90% {\n",
              "      border-color: transparent;\n",
              "      border-bottom-color: var(--fill-color);\n",
              "    }\n",
              "  }\n",
              "</style>\n",
              "\n",
              "  <script>\n",
              "    async function quickchart(key) {\n",
              "      const quickchartButtonEl =\n",
              "        document.querySelector('#' + key + ' button');\n",
              "      quickchartButtonEl.disabled = true;  // To prevent multiple clicks.\n",
              "      quickchartButtonEl.classList.add('colab-df-spinner');\n",
              "      try {\n",
              "        const charts = await google.colab.kernel.invokeFunction(\n",
              "            'suggestCharts', [key], {});\n",
              "      } catch (error) {\n",
              "        console.error('Error during call to suggestCharts:', error);\n",
              "      }\n",
              "      quickchartButtonEl.classList.remove('colab-df-spinner');\n",
              "      quickchartButtonEl.classList.add('colab-df-quickchart-complete');\n",
              "    }\n",
              "    (() => {\n",
              "      let quickchartButtonEl =\n",
              "        document.querySelector('#df-2d29bc68-8241-4756-84a9-de5e93ad5e40 button');\n",
              "      quickchartButtonEl.style.display =\n",
              "        google.colab.kernel.accessAllowed ? 'block' : 'none';\n",
              "    })();\n",
              "  </script>\n",
              "</div>\n",
              "\n",
              "    </div>\n",
              "  </div>\n"
            ],
            "application/vnd.google.colaboratory.intrinsic+json": {
              "type": "dataframe",
              "variable_name": "df",
              "summary": "{\n  \"name\": \"df\",\n  \"rows\": 61065,\n  \"fields\": [\n    {\n      \"column\": \"Class\",\n      \"properties\": {\n        \"dtype\": \"category\",\n        \"num_unique_values\": 2,\n        \"samples\": [\n          \"Anomalous\",\n          \"Valid\"\n        ],\n        \"semantic_type\": \"\",\n        \"description\": \"\"\n      }\n    },\n    {\n      \"column\": \"URI\",\n      \"properties\": {\n        \"dtype\": \"category\",\n        \"num_unique_values\": 1643,\n        \"samples\": [\n          \"/tienda1/miembros/salir.jsp/asf-logo-wide.gif.Old\",\n          \"/4861362529278789730.Inc\"\n        ],\n        \"semantic_type\": \"\",\n        \"description\": \"\"\n      }\n    },\n    {\n      \"column\": \"POST-Data\",\n      \"properties\": {\n        \"dtype\": \"category\",\n        \"num_unique_values\": 12086,\n        \"samples\": [\n          \"modo=registro&login=loewen&password=ovIl&nombre=Reagan%4040&apellidos=Piulachs+Casaramon&email=diogene%40acch-portugal.mq&dni=29385199P&direccion=C%2F+Huesca%2C+171+&ciudad=Luz%F3n&cp=15863&provincia=Valladolid&ntc=0586261319391409&B1=Registrar\",\n          \"modo=registro&login=devore&passwordA=subcierna&nombre=Agripino&apellidos=Verge+Unza&email=bucci%40quehaces.jobs&dni=60737010J&direccion=C%2F+Ignacio+Alvarez+Castelao+63%2C+&ciudad=Bobor%E1s&cp=26585&provincia=Albacete&ntc=4362098450410564&B1=Registrar\"\n        ],\n        \"semantic_type\": \"\",\n        \"description\": \"\"\n      }\n    },\n    {\n      \"column\": \"GET-Query\",\n      \"properties\": {\n        \"dtype\": \"category\",\n        \"num_unique_values\": 11845,\n        \"samples\": [\n          \"modo=registro&login=montijo&password=LiBreta%252B&nombre=Virtudes&apellidos=T%F3rtola+Planelles&email=arnold-weck%40santcugatpisos.gl&dni=75272191E&direccion=Calle+San+Mambru%2C+60+&ciudad=Guijo+de+Coria&cp=23391&provincia=Salamanca&ntc=7881123538069057&B1=Registrar\",\n          \"modo=registro&login=tonie&password=Ca_pUChO&nombre=Nicolasa&apellidos=Kappou+Torrecis&email=campbell%40arroyo-molinos.bw&dni=73525509Y&direccion=Calle+La+Higuerilla+32+9%3FH&ciudad=Santa+Oliva&cp=16707&provincia=Badajoz&ntc=8379642206220102&B1=Registrar\"\n        ],\n        \"semantic_type\": \"\",\n        \"description\": \"\"\n      }\n    },\n    {\n      \"column\": \"URI_Length\",\n      \"properties\": {\n        \"dtype\": \"number\",\n        \"std\": 5,\n        \"min\": 1,\n        \"max\": 66,\n        \"num_unique_values\": 64,\n        \"samples\": [\n          1,\n          60\n        ],\n        \"semantic_type\": \"\",\n        \"description\": \"\"\n      }\n    },\n    {\n      \"column\": \"GET_Length\",\n      \"properties\": {\n        \"dtype\": \"number\",\n        \"std\": 75,\n        \"min\": 0,\n        \"max\": 836,\n        \"num_unique_values\": 384,\n        \"samples\": [\n          321,\n          346\n        ],\n        \"semantic_type\": \"\",\n        \"description\": \"\"\n      }\n    },\n    {\n      \"column\": \"POST_Length\",\n      \"properties\": {\n        \"dtype\": \"number\",\n        \"std\": 75,\n        \"min\": 0,\n        \"max\": 836,\n        \"num_unique_values\": 383,\n        \"samples\": [\n          321,\n          346\n        ],\n        \"semantic_type\": \"\",\n        \"description\": \"\"\n      }\n    },\n    {\n      \"column\": \"URI_Entropy\",\n      \"properties\": {\n        \"dtype\": \"number\",\n        \"std\": 0.25133713405394287,\n        \"min\": -0.0,\n        \"max\": 4.803023284588598,\n        \"num_unique_values\": 1121,\n        \"samples\": [\n          4.533785236061562,\n          4.338804369244613\n        ],\n        \"semantic_type\": \"\",\n        \"description\": \"\"\n      }\n    },\n    {\n      \"column\": \"GET_Entropy\",\n      \"properties\": {\n        \"dtype\": \"number\",\n        \"std\": 1.9586615132545087,\n        \"min\": 0.0,\n        \"max\": 5.336967125921794,\n        \"num_unique_values\": 8340,\n        \"samples\": [\n          5.001506089867697,\n          4.956457663938064\n        ],\n        \"semantic_type\": \"\",\n        \"description\": \"\"\n      }\n    },\n    {\n      \"column\": \"POST_Entropy\",\n      \"properties\": {\n        \"dtype\": \"number\",\n        \"std\": 1.970293959118268,\n        \"min\": 0.0,\n        \"max\": 5.336967125921794,\n        \"num_unique_values\": 8496,\n        \"samples\": [\n          4.160174178816503,\n          5.101436450630113\n        ],\n        \"semantic_type\": \"\",\n        \"description\": \"\"\n      }\n    },\n    {\n      \"column\": \"Numeric_Text_Ratio\",\n      \"properties\": {\n        \"dtype\": \"number\",\n        \"std\": 0.7440896537264181,\n        \"min\": 0.0,\n        \"max\": 9.5,\n        \"num_unique_values\": 873,\n        \"samples\": [\n          2.4173913043478263,\n          1.3568627450980393\n        ],\n        \"semantic_type\": \"\",\n        \"description\": \"\"\n      }\n    },\n    {\n      \"column\": \"Special_Char_Count\",\n      \"properties\": {\n        \"dtype\": \"number\",\n        \"std\": 4,\n        \"min\": 0,\n        \"max\": 18,\n        \"num_unique_values\": 15,\n        \"samples\": [\n          17,\n          9\n        ],\n        \"semantic_type\": \"\",\n        \"description\": \"\"\n      }\n    }\n  ]\n}"
            }
          },
          "metadata": {},
          "execution_count": 6
        }
      ]
    },
    {
      "cell_type": "code",
      "source": [
        "X = df.drop(columns=[\"Class\",\"POST-Data\",\"GET-Query\",\"URI\",\"URI_Length\", \"URI_Entropy\"])  # Features\n",
        "# Convert target variable to numeric format\n",
        "y = df[\"Class\"].map({\"Valid\": 0, \"Anomalous\": 1})  # Valid → 0, Anomalous → 1\n"
      ],
      "metadata": {
        "id": "VzD54t6i2Xzf"
      },
      "execution_count": null,
      "outputs": []
    },
    {
      "cell_type": "code",
      "source": [
        "# Splitting dataset into 70% train, 15% validation, 15% test\n",
        "X_train, X_temp, y_train, y_temp = train_test_split(X, y, test_size=0.3, random_state=42, stratify=y)\n",
        "X_val, X_test, y_val, y_test = train_test_split(X_temp, y_temp, test_size=0.5, random_state=42, stratify=y_temp)\n",
        "\n",
        "# Print dataset shapes\n",
        "print(f\"Train: {X_train.shape}, Validation: {X_val.shape}, Test: {X_test.shape}\")\n"
      ],
      "metadata": {
        "colab": {
          "base_uri": "https://localhost:8080/"
        },
        "id": "SMjjH27y5ifT",
        "outputId": "6434d898-15ba-40e1-c675-90fe3da43cf5"
      },
      "execution_count": null,
      "outputs": [
        {
          "output_type": "stream",
          "name": "stdout",
          "text": [
            "Train: (42745, 6), Validation: (9160, 6), Test: (9160, 6)\n"
          ]
        }
      ]
    },
    {
      "cell_type": "code",
      "source": [
        "import dagshub\n",
        "dagshub.init(repo_owner='username', repo_name='reponame', mlflow=True)\n",
        "# Set MLflow experiment\n",
        "mlflow.set_experiment(\"Hybrid-WAF-Models\")"
      ],
      "metadata": {
        "colab": {
          "base_uri": "https://localhost:8080/",
          "height": 245,
          "referenced_widgets": [
            "52001af69cfa462a917f39875260cefd",
            "c7dd285d8155458bbf7df2911e7761d6"
          ]
        },
        "id": "ARNeWvMn-Cu_",
        "outputId": "cbc8298b-928e-4a7a-c1f9-1d424cafaded"
      },
      "execution_count": null,
      "outputs": [
        {
          "output_type": "display_data",
          "data": {
            "text/plain": [
              "                                       \u001b[1m❗❗❗ AUTHORIZATION REQUIRED ❗❗❗\u001b[0m                                        \n"
            ],
            "text/html": [
              "<pre style=\"white-space:pre;overflow-x:auto;line-height:normal;font-family:Menlo,'DejaVu Sans Mono',consolas,'Courier New',monospace\">                                       <span style=\"font-weight: bold\">❗❗❗ AUTHORIZATION REQUIRED ❗❗❗</span>                                        \n",
              "</pre>\n"
            ]
          },
          "metadata": {}
        },
        {
          "output_type": "display_data",
          "data": {
            "text/plain": [
              "Output()"
            ],
            "application/vnd.jupyter.widget-view+json": {
              "version_major": 2,
              "version_minor": 0,
              "model_id": "52001af69cfa462a917f39875260cefd"
            }
          },
          "metadata": {}
        },
        {
          "output_type": "stream",
          "name": "stdout",
          "text": [
            "\n",
            "\n",
            "Open the following link in your browser to authorize the client:\n",
            "https://dagshub.com/login/oauth/authorize?state=5e3f73f9-1cb0-49ea-989c-7234f04de175&client_id=32b60ba385aa7cecf24046d8195a71c07dd345d9657977863b52e7748e0f0f28&middleman_request_id=1bde63f17b0edaf49c9917020159f556024837646d358aaf8e6f037cd0eff1df\n",
            "\n",
            "\n"
          ]
        },
        {
          "output_type": "display_data",
          "data": {
            "text/plain": [],
            "text/html": [
              "<pre style=\"white-space:pre;overflow-x:auto;line-height:normal;font-family:Menlo,'DejaVu Sans Mono',consolas,'Courier New',monospace\"></pre>\n"
            ]
          },
          "metadata": {}
        },
        {
          "output_type": "display_data",
          "data": {
            "text/plain": [
              "Accessing as riyazmullaji\n"
            ],
            "text/html": [
              "<pre style=\"white-space:pre;overflow-x:auto;line-height:normal;font-family:Menlo,'DejaVu Sans Mono',consolas,'Courier New',monospace\">Accessing as riyazmullaji\n",
              "</pre>\n"
            ]
          },
          "metadata": {}
        },
        {
          "output_type": "display_data",
          "data": {
            "text/plain": [
              "Initialized MLflow to track repo \u001b[32m\"riyazmullaji/HYBRID-WAF\"\u001b[0m\n"
            ],
            "text/html": [
              "<pre style=\"white-space:pre;overflow-x:auto;line-height:normal;font-family:Menlo,'DejaVu Sans Mono',consolas,'Courier New',monospace\">Initialized MLflow to track repo <span style=\"color: #008000; text-decoration-color: #008000\">\"riyazmullaji/HYBRID-WAF\"</span>\n",
              "</pre>\n"
            ]
          },
          "metadata": {}
        },
        {
          "output_type": "display_data",
          "data": {
            "text/plain": [
              "Repository riyazmullaji/HYBRID-WAF initialized!\n"
            ],
            "text/html": [
              "<pre style=\"white-space:pre;overflow-x:auto;line-height:normal;font-family:Menlo,'DejaVu Sans Mono',consolas,'Courier New',monospace\">Repository riyazmullaji/HYBRID-WAF initialized!\n",
              "</pre>\n"
            ]
          },
          "metadata": {}
        },
        {
          "output_type": "execute_result",
          "data": {
            "text/plain": [
              "<Experiment: artifact_location='mlflow-artifacts:/992deeaa674d4c8c823c8a5fe40f2f22', creation_time=1742466453869, experiment_id='2', last_update_time=1742466453869, lifecycle_stage='active', name='Hybrid-WAF-Models', tags={}>"
            ]
          },
          "metadata": {},
          "execution_count": 9
        }
      ]
    },
    {
      "cell_type": "code",
      "source": [
        "from sklearn.preprocessing import RobustScaler\n",
        "import joblib\n",
        "\n",
        "# Robust Scaling\n",
        "scaler = RobustScaler()\n",
        "X_train_scaled = scaler.fit_transform(X_train)\n",
        "X_val_scaled = scaler.transform(X_val)\n",
        "X_test_scaled = scaler.transform(X_test)\n",
        "\n",
        "# Convert scaled data back to DataFrame\n",
        "X_train_scaled = pd.DataFrame(X_train_scaled, columns=X.columns)\n",
        "X_val_scaled = pd.DataFrame(X_val_scaled, columns=X.columns)\n",
        "X_test_scaled = pd.DataFrame(X_test_scaled, columns=X.columns)\n",
        "\n",
        "# Save the fitted scaler in Google Drive\n",
        "scaler_filename = \"/robust.pkl\"\n",
        "joblib.dump(scaler, scaler_filename)\n",
        "\n",
        "print(f\"Scaler saved at: {scaler_filename}\")"
      ],
      "metadata": {
        "id": "cESStmExANS9",
        "colab": {
          "base_uri": "https://localhost:8080/"
        },
        "outputId": "7f4fde55-dac1-4c4c-8590-a8a36c18734c"
      },
      "execution_count": null,
      "outputs": [
        {
          "output_type": "stream",
          "name": "stdout",
          "text": [
            "Scaler saved at: /content/drive/My Drive/Hybrid-WAF/robust.pkl\n"
          ]
        }
      ]
    },
    {
      "cell_type": "code",
      "source": [
        "# Define models and their datasets\n",
        "models = {\n",
        "    # Tree-based Models (Unscaled Data)\n",
        "    \"RandomForest\": (RandomForestClassifier(n_estimators=100, random_state=42), X_train, X_val),\n",
        "    \"XGBoost\": (XGBClassifier(verbosity=1), X_train, X_val),\n",
        "    \"LightGBM\": (LGBMClassifier(), X_train, X_val),\n",
        "\n",
        "    # Distance-based Models (Scaled Data)\n",
        "    \"LogisticRegression\": (LogisticRegression(), X_train_scaled, X_val_scaled),\n",
        "    \"SVM\": (SVC(), X_train_scaled, X_val_scaled),\n",
        "    \"KNN\": (KNeighborsClassifier(n_neighbors=5), X_train_scaled, X_val_scaled)\n",
        "}\n",
        "\n",
        "\n",
        "# Train models & log results with MLflow\n",
        "for model_name, (model, X_train_data, X_val_data) in models.items():\n",
        "    input_example = X.iloc[:1].to_dict(orient=\"records\")[0]\n",
        "\n",
        "    with mlflow.start_run(run_name=model_name):\n",
        "        # Train model\n",
        "        model.fit(X_train_data, y_train)\n",
        "\n",
        "        # Predictions\n",
        "        y_pred = model.predict(X_val_data)\n",
        "        y_proba = model.predict_proba(X_val_data)[:, 1] if hasattr(model, \"predict_proba\") else None  # Some models don't support predict_proba\n",
        "\n",
        "        # Compute Metrics\n",
        "        acc = accuracy_score(y_val, y_pred)\n",
        "        f1 = f1_score(y_val, y_pred, average=\"weighted\")\n",
        "        precision = precision_score(y_val, y_pred, average=\"weighted\")\n",
        "        recall = recall_score(y_val, y_pred, average=\"weighted\")\n",
        "        roc_auc = roc_auc_score(y_val, y_proba) if y_proba is not None else None\n",
        "\n",
        "        # Log Metrics in MLflow\n",
        "        mlflow.log_metric(\"accuracy\", acc)\n",
        "        mlflow.log_metric(\"f1_score\", f1)\n",
        "        mlflow.log_metric(\"precision\", precision)\n",
        "        mlflow.log_metric(\"recall\", recall)\n",
        "\n",
        "        if roc_auc is not None:\n",
        "            mlflow.log_metric(\"roc_auc\", roc_auc)\n",
        "\n",
        "        # Log Model in MLflow\n",
        "        mlflow.sklearn.log_model(model, model_name, input_example=input_example)\n",
        "\n",
        "        print(f\"{model_name} - Accuracy: {acc:.4f}, F1-score: {f1:.4f}, Precision: {precision:.4f}, Recall: {recall:.4f}, ROC-AUC: {roc_auc if roc_auc is not None else 'N/A'}\")\n",
        "\n"
      ],
      "metadata": {
        "colab": {
          "base_uri": "https://localhost:8080/"
        },
        "id": "PhmPGD11YH38",
        "outputId": "dcc05d2b-b64e-42fb-89e9-9722c523e7e5"
      },
      "execution_count": null,
      "outputs": [
        {
          "output_type": "stream",
          "name": "stderr",
          "text": [
            "/usr/local/lib/python3.11/dist-packages/mlflow/types/utils.py:452: UserWarning: Hint: Inferred schema contains integer column(s). Integer columns in Python cannot represent missing values. If your input data contains missing values at inference time, it will be encoded as floats and will cause a schema enforcement error. The best way to avoid this problem is to infer the model schema based on a realistic data sample (training dataset) that includes missing values. Alternatively, you can declare integer columns as doubles (float64) whenever these columns may have missing values. See `Handling Integers With Missing Values <https://www.mlflow.org/docs/latest/models.html#handling-integers-with-missing-values>`_ for more details.\n",
            "  warnings.warn(\n",
            "/usr/local/lib/python3.11/dist-packages/mlflow/types/utils.py:452: UserWarning: Hint: Inferred schema contains integer column(s). Integer columns in Python cannot represent missing values. If your input data contains missing values at inference time, it will be encoded as floats and will cause a schema enforcement error. The best way to avoid this problem is to infer the model schema based on a realistic data sample (training dataset) that includes missing values. Alternatively, you can declare integer columns as doubles (float64) whenever these columns may have missing values. See `Handling Integers With Missing Values <https://www.mlflow.org/docs/latest/models.html#handling-integers-with-missing-values>`_ for more details.\n",
            "  warnings.warn(\n"
          ]
        },
        {
          "output_type": "stream",
          "name": "stdout",
          "text": [
            "RandomForest - Accuracy: 0.9039, F1-score: 0.9037, Precision: 0.9038, Recall: 0.9039, ROC-AUC: 0.9744693410165485\n",
            "🏃 View run RandomForest at: https://dagshub.com/riyazmullaji/HYBRID-WAF.mlflow/#/experiments/2/runs/d039dd4c46e24b29b3a48f749db48ee8\n",
            "🧪 View experiment at: https://dagshub.com/riyazmullaji/HYBRID-WAF.mlflow/#/experiments/2\n"
          ]
        },
        {
          "output_type": "stream",
          "name": "stderr",
          "text": [
            "/usr/local/lib/python3.11/dist-packages/mlflow/types/utils.py:452: UserWarning: Hint: Inferred schema contains integer column(s). Integer columns in Python cannot represent missing values. If your input data contains missing values at inference time, it will be encoded as floats and will cause a schema enforcement error. The best way to avoid this problem is to infer the model schema based on a realistic data sample (training dataset) that includes missing values. Alternatively, you can declare integer columns as doubles (float64) whenever these columns may have missing values. See `Handling Integers With Missing Values <https://www.mlflow.org/docs/latest/models.html#handling-integers-with-missing-values>`_ for more details.\n",
            "  warnings.warn(\n",
            "/usr/local/lib/python3.11/dist-packages/mlflow/types/utils.py:452: UserWarning: Hint: Inferred schema contains integer column(s). Integer columns in Python cannot represent missing values. If your input data contains missing values at inference time, it will be encoded as floats and will cause a schema enforcement error. The best way to avoid this problem is to infer the model schema based on a realistic data sample (training dataset) that includes missing values. Alternatively, you can declare integer columns as doubles (float64) whenever these columns may have missing values. See `Handling Integers With Missing Values <https://www.mlflow.org/docs/latest/models.html#handling-integers-with-missing-values>`_ for more details.\n",
            "  warnings.warn(\n"
          ]
        },
        {
          "output_type": "stream",
          "name": "stdout",
          "text": [
            "XGBoost - Accuracy: 0.9039, F1-score: 0.9035, Precision: 0.9039, Recall: 0.9039, ROC-AUC: 0.9742217297084318\n",
            "🏃 View run XGBoost at: https://dagshub.com/riyazmullaji/HYBRID-WAF.mlflow/#/experiments/2/runs/b3c8e7b47f734611befc780e2e05eb99\n",
            "🧪 View experiment at: https://dagshub.com/riyazmullaji/HYBRID-WAF.mlflow/#/experiments/2\n",
            "[LightGBM] [Info] Number of positive: 17545, number of negative: 25200\n",
            "[LightGBM] [Info] Auto-choosing row-wise multi-threading, the overhead of testing was 0.001662 seconds.\n",
            "You can set `force_row_wise=true` to remove the overhead.\n",
            "And if memory is not enough, you can set `force_col_wise=true`.\n",
            "[LightGBM] [Info] Total Bins 1259\n",
            "[LightGBM] [Info] Number of data points in the train set: 42745, number of used features: 6\n",
            "[LightGBM] [Info] [binary:BoostFromScore]: pavg=0.410457 -> initscore=-0.362075\n",
            "[LightGBM] [Info] Start training from score -0.362075\n"
          ]
        },
        {
          "output_type": "stream",
          "name": "stderr",
          "text": [
            "/usr/local/lib/python3.11/dist-packages/mlflow/types/utils.py:452: UserWarning: Hint: Inferred schema contains integer column(s). Integer columns in Python cannot represent missing values. If your input data contains missing values at inference time, it will be encoded as floats and will cause a schema enforcement error. The best way to avoid this problem is to infer the model schema based on a realistic data sample (training dataset) that includes missing values. Alternatively, you can declare integer columns as doubles (float64) whenever these columns may have missing values. See `Handling Integers With Missing Values <https://www.mlflow.org/docs/latest/models.html#handling-integers-with-missing-values>`_ for more details.\n",
            "  warnings.warn(\n",
            "/usr/local/lib/python3.11/dist-packages/mlflow/types/utils.py:452: UserWarning: Hint: Inferred schema contains integer column(s). Integer columns in Python cannot represent missing values. If your input data contains missing values at inference time, it will be encoded as floats and will cause a schema enforcement error. The best way to avoid this problem is to infer the model schema based on a realistic data sample (training dataset) that includes missing values. Alternatively, you can declare integer columns as doubles (float64) whenever these columns may have missing values. See `Handling Integers With Missing Values <https://www.mlflow.org/docs/latest/models.html#handling-integers-with-missing-values>`_ for more details.\n",
            "  warnings.warn(\n"
          ]
        },
        {
          "output_type": "stream",
          "name": "stdout",
          "text": [
            "LightGBM - Accuracy: 0.9062, F1-score: 0.9058, Precision: 0.9062, Recall: 0.9062, ROC-AUC: 0.9750935037431048\n",
            "🏃 View run LightGBM at: https://dagshub.com/riyazmullaji/HYBRID-WAF.mlflow/#/experiments/2/runs/66e33976d0d0442492770a5f2b870a32\n",
            "🧪 View experiment at: https://dagshub.com/riyazmullaji/HYBRID-WAF.mlflow/#/experiments/2\n"
          ]
        },
        {
          "output_type": "stream",
          "name": "stderr",
          "text": [
            "/usr/local/lib/python3.11/dist-packages/mlflow/types/utils.py:452: UserWarning: Hint: Inferred schema contains integer column(s). Integer columns in Python cannot represent missing values. If your input data contains missing values at inference time, it will be encoded as floats and will cause a schema enforcement error. The best way to avoid this problem is to infer the model schema based on a realistic data sample (training dataset) that includes missing values. Alternatively, you can declare integer columns as doubles (float64) whenever these columns may have missing values. See `Handling Integers With Missing Values <https://www.mlflow.org/docs/latest/models.html#handling-integers-with-missing-values>`_ for more details.\n",
            "  warnings.warn(\n",
            "/usr/local/lib/python3.11/dist-packages/mlflow/types/utils.py:452: UserWarning: Hint: Inferred schema contains integer column(s). Integer columns in Python cannot represent missing values. If your input data contains missing values at inference time, it will be encoded as floats and will cause a schema enforcement error. The best way to avoid this problem is to infer the model schema based on a realistic data sample (training dataset) that includes missing values. Alternatively, you can declare integer columns as doubles (float64) whenever these columns may have missing values. See `Handling Integers With Missing Values <https://www.mlflow.org/docs/latest/models.html#handling-integers-with-missing-values>`_ for more details.\n",
            "  warnings.warn(\n"
          ]
        },
        {
          "output_type": "stream",
          "name": "stdout",
          "text": [
            "LogisticRegression - Accuracy: 0.7319, F1-score: 0.7301, Precision: 0.7297, Recall: 0.7319, ROC-AUC: 0.7667267533490937\n",
            "🏃 View run LogisticRegression at: https://dagshub.com/riyazmullaji/HYBRID-WAF.mlflow/#/experiments/2/runs/db86d20ae9b1485f9c7065c3ba2d21f3\n",
            "🧪 View experiment at: https://dagshub.com/riyazmullaji/HYBRID-WAF.mlflow/#/experiments/2\n"
          ]
        },
        {
          "output_type": "stream",
          "name": "stderr",
          "text": [
            "/usr/local/lib/python3.11/dist-packages/mlflow/types/utils.py:452: UserWarning: Hint: Inferred schema contains integer column(s). Integer columns in Python cannot represent missing values. If your input data contains missing values at inference time, it will be encoded as floats and will cause a schema enforcement error. The best way to avoid this problem is to infer the model schema based on a realistic data sample (training dataset) that includes missing values. Alternatively, you can declare integer columns as doubles (float64) whenever these columns may have missing values. See `Handling Integers With Missing Values <https://www.mlflow.org/docs/latest/models.html#handling-integers-with-missing-values>`_ for more details.\n",
            "  warnings.warn(\n",
            "/usr/local/lib/python3.11/dist-packages/mlflow/types/utils.py:452: UserWarning: Hint: Inferred schema contains integer column(s). Integer columns in Python cannot represent missing values. If your input data contains missing values at inference time, it will be encoded as floats and will cause a schema enforcement error. The best way to avoid this problem is to infer the model schema based on a realistic data sample (training dataset) that includes missing values. Alternatively, you can declare integer columns as doubles (float64) whenever these columns may have missing values. See `Handling Integers With Missing Values <https://www.mlflow.org/docs/latest/models.html#handling-integers-with-missing-values>`_ for more details.\n",
            "  warnings.warn(\n"
          ]
        },
        {
          "output_type": "stream",
          "name": "stdout",
          "text": [
            "SVM - Accuracy: 0.7358, F1-score: 0.7274, Precision: 0.7362, Recall: 0.7358, ROC-AUC: N/A\n",
            "🏃 View run SVM at: https://dagshub.com/riyazmullaji/HYBRID-WAF.mlflow/#/experiments/2/runs/fe8e050904464b699ddb9cfc2f48fbea\n",
            "🧪 View experiment at: https://dagshub.com/riyazmullaji/HYBRID-WAF.mlflow/#/experiments/2\n"
          ]
        },
        {
          "output_type": "stream",
          "name": "stderr",
          "text": [
            "/usr/local/lib/python3.11/dist-packages/mlflow/types/utils.py:452: UserWarning: Hint: Inferred schema contains integer column(s). Integer columns in Python cannot represent missing values. If your input data contains missing values at inference time, it will be encoded as floats and will cause a schema enforcement error. The best way to avoid this problem is to infer the model schema based on a realistic data sample (training dataset) that includes missing values. Alternatively, you can declare integer columns as doubles (float64) whenever these columns may have missing values. See `Handling Integers With Missing Values <https://www.mlflow.org/docs/latest/models.html#handling-integers-with-missing-values>`_ for more details.\n",
            "  warnings.warn(\n",
            "/usr/local/lib/python3.11/dist-packages/mlflow/types/utils.py:452: UserWarning: Hint: Inferred schema contains integer column(s). Integer columns in Python cannot represent missing values. If your input data contains missing values at inference time, it will be encoded as floats and will cause a schema enforcement error. The best way to avoid this problem is to infer the model schema based on a realistic data sample (training dataset) that includes missing values. Alternatively, you can declare integer columns as doubles (float64) whenever these columns may have missing values. See `Handling Integers With Missing Values <https://www.mlflow.org/docs/latest/models.html#handling-integers-with-missing-values>`_ for more details.\n",
            "  warnings.warn(\n"
          ]
        },
        {
          "output_type": "stream",
          "name": "stdout",
          "text": [
            "KNN - Accuracy: 0.8974, F1-score: 0.8972, Precision: 0.8972, Recall: 0.8974, ROC-AUC: 0.9595715130023641\n",
            "🏃 View run KNN at: https://dagshub.com/riyazmullaji/HYBRID-WAF.mlflow/#/experiments/2/runs/7f6b624eac414625a3b4365b7606c9fa\n",
            "🧪 View experiment at: https://dagshub.com/riyazmullaji/HYBRID-WAF.mlflow/#/experiments/2\n"
          ]
        }
      ]
    },
    {
      "cell_type": "code",
      "source": [
        "# Dictionary to store results\n",
        "results = []\n",
        "\n",
        "# Evaluate models\n",
        "for model_name, (model, X_train_data, X_val_data) in models.items():\n",
        "    # Train model (Only if the model hasn't been trained before)\n",
        "    if not hasattr(model, \"classes_\"):  # Check if the model has been fitted before\n",
        "        model.fit(X_train_data, y_train)\n",
        "\n",
        "    # Predictions\n",
        "    y_pred = model.predict(X_val_data)\n",
        "    y_proba = model.predict_proba(X_val_data)[:, 1] if hasattr(model, \"predict_proba\") else None\n",
        "\n",
        "    # Compute metrics\n",
        "    acc = accuracy_score(y_val, y_pred)\n",
        "    f1 = f1_score(y_val, y_pred, average=\"weighted\")\n",
        "    precision = precision_score(y_val, y_pred, average=\"weighted\")\n",
        "    recall = recall_score(y_val, y_pred, average=\"weighted\")\n",
        "    roc_auc = roc_auc_score(y_val, y_proba) if y_proba is not None else None\n",
        "\n",
        "    # Store results\n",
        "    results.append({\n",
        "        \"Model\": model_name,\n",
        "        \"Accuracy\": acc,\n",
        "        \"F1 Score\": f1,\n",
        "        \"Precision\": precision,\n",
        "        \"Recall\": recall,\n",
        "        \"ROC AUC\": roc_auc if roc_auc is not None else \"N/A\"\n",
        "    })\n",
        "\n",
        "# Convert to DataFrame and display\n",
        "df_results = pd.DataFrame(results)\n",
        "print(df_results)"
      ],
      "metadata": {
        "colab": {
          "base_uri": "https://localhost:8080/"
        },
        "id": "KfwRTrjvAQBx",
        "outputId": "f0e3eb7e-553e-455a-bacf-2cc04b870091"
      },
      "execution_count": null,
      "outputs": [
        {
          "output_type": "stream",
          "name": "stdout",
          "text": [
            "[LightGBM] [Info] Number of positive: 17545, number of negative: 25200\n",
            "[LightGBM] [Info] Auto-choosing row-wise multi-threading, the overhead of testing was 0.007089 seconds.\n",
            "You can set `force_row_wise=true` to remove the overhead.\n",
            "And if memory is not enough, you can set `force_col_wise=true`.\n",
            "[LightGBM] [Info] Total Bins 1259\n",
            "[LightGBM] [Info] Number of data points in the train set: 42745, number of used features: 6\n",
            "[LightGBM] [Info] [binary:BoostFromScore]: pavg=0.410457 -> initscore=-0.362075\n",
            "[LightGBM] [Info] Start training from score -0.362075\n",
            "                Model  Accuracy  F1 Score  Precision    Recall   ROC AUC\n",
            "0        RandomForest  0.903930  0.903670   0.903753  0.903930  0.974469\n",
            "1             XGBoost  0.903930  0.903525   0.903896  0.903930  0.974222\n",
            "2            LightGBM  0.906223  0.905811   0.906237  0.906223  0.975094\n",
            "3  LogisticRegression  0.731878  0.730125   0.729712  0.731878  0.766727\n",
            "4                 SVM  0.735808  0.727362   0.736227  0.735808       N/A\n",
            "5                 KNN  0.897380  0.897164   0.897160  0.897380  0.959572\n"
          ]
        }
      ]
    },
    {
      "cell_type": "code",
      "source": [
        "from lightgbm import LGBMClassifier\n",
        "import mlflow\n",
        "from sklearn.metrics import accuracy_score, f1_score, precision_score, recall_score, roc_auc_score\n",
        "\n",
        "# Merge training and validation sets\n",
        "X_train_full = pd.concat([X_train, X_val], axis=0)\n",
        "y_train_full = pd.concat([y_train, y_val], axis=0)\n",
        "\n",
        "# Instantiate and train LGBM on the full training set\n",
        "lgbm_model = LGBMClassifier()\n",
        "lgbm_model.fit(X_train_full, y_train_full)\n",
        "\n",
        "# Evaluate on test set\n",
        "y_test_pred = lgbm_model.predict(X_test)\n",
        "y_test_proba = lgbm_model.predict_proba(X_test)[:, 1]  # Probability scores\n",
        "\n",
        "# Compute performance metrics\n",
        "test_acc = accuracy_score(y_test, y_test_pred)\n",
        "test_f1 = f1_score(y_test, y_test_pred, average=\"weighted\")\n",
        "test_precision = precision_score(y_test, y_test_pred, average=\"weighted\")\n",
        "test_recall = recall_score(y_test, y_test_pred, average=\"weighted\")\n",
        "test_roc_auc = roc_auc_score(y_test, y_test_proba)\n",
        "\n",
        "# Print results\n",
        "print(f\"LGBM Test Performance:\")\n",
        "print(f\"Accuracy: {test_acc:.4f}\")\n",
        "print(f\"F1 Score: {test_f1:.4f}\")\n",
        "print(f\"Precision: {test_precision:.4f}\")\n",
        "print(f\"Recall: {test_recall:.4f}\")\n",
        "print(f\"ROC-AUC: {test_roc_auc:.4f}\")\n",
        "\n",
        "# Log results in MLflow\n",
        "with mlflow.start_run(run_name=\"LGBM Final\"):\n",
        "    mlflow.log_metric(\"test_accuracy\", test_acc)\n",
        "    mlflow.log_metric(\"test_f1_score\", test_f1)\n",
        "    mlflow.log_metric(\"test_precision\", test_precision)\n",
        "    mlflow.log_metric(\"test_recall\", test_recall)\n",
        "    mlflow.log_metric(\"test_roc_auc\", test_roc_auc)\n",
        "\n",
        "    mlflow.sklearn.log_model(lgbm_model, \"lgbm_model_final\")\n"
      ],
      "metadata": {
        "id": "BF4ovGKXJA5P",
        "colab": {
          "base_uri": "https://localhost:8080/"
        },
        "outputId": "1a1e6837-fa59-44a9-dfc5-37fad68eecc7"
      },
      "execution_count": null,
      "outputs": [
        {
          "output_type": "stream",
          "name": "stdout",
          "text": [
            "[LightGBM] [Info] Number of positive: 21305, number of negative: 30600\n",
            "[LightGBM] [Info] Auto-choosing col-wise multi-threading, the overhead of testing was 0.006874 seconds.\n",
            "You can set `force_col_wise=true` to remove the overhead.\n",
            "[LightGBM] [Info] Total Bins 1265\n",
            "[LightGBM] [Info] Number of data points in the train set: 51905, number of used features: 6\n",
            "[LightGBM] [Info] [binary:BoostFromScore]: pavg=0.410461 -> initscore=-0.362058\n",
            "[LightGBM] [Info] Start training from score -0.362058\n",
            "LGBM Test Performance:\n",
            "Accuracy: 0.9039\n",
            "F1 Score: 0.9034\n",
            "Precision: 0.9042\n",
            "Recall: 0.9039\n",
            "ROC-AUC: 0.9731\n"
          ]
        },
        {
          "output_type": "stream",
          "name": "stderr",
          "text": [
            "\u001b[31m2025/04/12 06:36:43 WARNING mlflow.models.model: Model logged without a signature and input example. Please set `input_example` parameter when logging the model to auto infer the model signature.\u001b[0m\n"
          ]
        },
        {
          "output_type": "stream",
          "name": "stdout",
          "text": [
            "🏃 View run LGBM Final at: https://dagshub.com/riyazmullaji/HYBRID-WAF.mlflow/#/experiments/2/runs/e584e8449d6844f4ae539012603a8d5a\n",
            "🧪 View experiment at: https://dagshub.com/riyazmullaji/HYBRID-WAF.mlflow/#/experiments/2\n"
          ]
        }
      ]
    },
    {
      "cell_type": "code",
      "source": [
        "# Confusion Matrix Visualization\n",
        "plt.figure(figsize=(6, 5))\n",
        "cm = confusion_matrix(y_test, y_test_pred)\n",
        "sns.heatmap(cm, annot=True, fmt='d', cmap=\"Blues\", xticklabels=['Negative', 'Positive'], yticklabels=['Negative', 'Positive'])\n",
        "plt.xlabel(\"Predicted\")\n",
        "plt.ylabel(\"Actual\")\n",
        "plt.title(\"Confusion Matrix\")\n",
        "plt.show()\n",
        "\n",
        "#  ROC Curve\n",
        "fpr, tpr, _ = roc_curve(y_test, y_test_proba)\n",
        "plt.figure(figsize=(6, 5))\n",
        "plt.plot(fpr, tpr, color=\"blue\", label=f\"AUC = {test_roc_auc:.4f}\")\n",
        "plt.plot([0, 1], [0, 1], \"k--\")  # Random classifier line\n",
        "plt.xlabel(\"False Positive Rate\")\n",
        "plt.ylabel(\"True Positive Rate\")\n",
        "plt.title(\"ROC Curve\")\n",
        "plt.legend(loc=\"lower right\")\n",
        "plt.show()\n",
        "\n",
        "#  Precision-Recall Curve\n",
        "precision, recall, _ = precision_recall_curve(y_test, y_test_proba)\n",
        "plt.figure(figsize=(6, 5))\n",
        "plt.plot(recall, precision, color=\"green\", label=\"Precision-Recall Curve\")\n",
        "plt.xlabel(\"Recall\")\n",
        "plt.ylabel(\"Precision\")\n",
        "plt.title(\"Precision-Recall Curve\")\n",
        "plt.legend()\n",
        "plt.show()"
      ],
      "metadata": {
        "colab": {
          "base_uri": "https://localhost:8080/",
          "height": 1000
        },
        "id": "IZtC_gcuKXns",
        "outputId": "19233aa0-732b-4d4f-c9dd-b78bc6295094"
      },
      "execution_count": null,
      "outputs": [
        {
          "output_type": "display_data",
          "data": {
            "text/plain": [
              "<Figure size 600x500 with 2 Axes>"
            ],
            "image/png": "[encoded data removed]"
          },
          "metadata": {}
        },
        {
          "output_type": "display_data",
          "data": {
            "text/plain": [
              "<Figure size 600x500 with 1 Axes>"
            ],
            "image/png": "[encoded data removed]"
          },
          "metadata": {}
        },
        {
          "output_type": "display_data",
          "data": {
            "text/plain": [
              "<Figure size 600x500 with 1 Axes>"
            ],
            "image/png": "[encoded data removed]"
          },
          "metadata": {}
        }
      ]
    },
    {
      "cell_type": "code",
      "source": [
        "save_path = \"Define your path\"\n"
      ],
      "metadata": {
        "id": "SXn-o5T0K278"
      },
      "execution_count": null,
      "outputs": []
    },
    {
      "cell_type": "code",
      "source": [
        "import lightgbm as lgb\n",
        "import joblib\n",
        "\n",
        "# Save model\n",
        "model_filename = save_path + \"new_LGBM_model.pkl\"\n",
        "joblib.dump(lgbm_model, model_filename)\n",
        "\n",
        "print(f\"Model saved at: {model_filename}\")"
      ],
      "metadata": {
        "colab": {
          "base_uri": "https://localhost:8080/"
        },
        "id": "KtBR-TXMHH3i",
        "outputId": "87afaad5-1c82-43b9-f24a-a5d807ab6532"
      },
      "execution_count": null,
      "outputs": [
        {
          "output_type": "stream",
          "name": "stdout",
          "text": [
            "Model saved at: /content/drive/My Drive/Hybrid-WAF/new_LGBM_model.pkl\n"
          ]
        }
      ]
    },
    {
      "cell_type": "code",
      "source": [],
      "metadata": {
        "id": "pQtkocesIAW8"
      },
      "execution_count": null,
      "outputs": []
    }
  ]
}